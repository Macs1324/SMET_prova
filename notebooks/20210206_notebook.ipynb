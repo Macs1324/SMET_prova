{
 "cells": [
  {
   "cell_type": "code",
   "execution_count": 1,
   "metadata": {},
   "outputs": [
    {
     "name": "stdout",
     "output_type": "stream",
     "text": [
      "pygame 1.9.6\n",
      "Hello from the pygame community. https://www.pygame.org/contribute.html\n"
     ]
    }
   ],
   "source": [
    "import pygame, math, time"
   ]
  },
  {
   "cell_type": "code",
   "execution_count": 2,
   "metadata": {},
   "outputs": [],
   "source": [
    "pygame.init()\n",
    "\n",
    "radius = 10\n",
    "speed = 5\n",
    "FPS = 60\n",
    "\n",
    "window_x = 400\n",
    "window_y = 400"
   ]
  },
  {
   "cell_type": "code",
   "execution_count": 3,
   "metadata": {},
   "outputs": [],
   "source": [
    "screen = pygame.display.set_mode( (window_x, window_y) )\n",
    "pygame.display.set_caption(\"PALLA BELLA\")\n",
    "\n",
    "\n",
    "\n",
    "pos_x = window_x // 2\n",
    "pos_y = window_y // 2\n",
    "\n",
    "vel_x = 1 * speed\n",
    "vel_y = 0.5 * speed\n",
    "\n",
    "ball_color = (100, 100, 255)\n",
    "bg_color = (50, 180, 40)\n",
    "\n",
    "running = True"
   ]
  },
  {
   "cell_type": "code",
   "execution_count": 4,
   "metadata": {},
   "outputs": [
    {
     "ename": "error",
     "evalue": "video system not initialized",
     "output_type": "error",
     "traceback": [
      "\u001b[0;31m------------------------------------------------------------------------\u001b[0m",
      "\u001b[0;31merror\u001b[0m                                  Traceback (most recent call last)",
      "\u001b[0;32m<ipython-input-4-21ffd95f8f93>\u001b[0m in \u001b[0;36m<module>\u001b[0;34m\u001b[0m\n\u001b[1;32m      7\u001b[0m                         \u001b[0mquit\u001b[0m\u001b[0;34m(\u001b[0m\u001b[0;34m)\u001b[0m\u001b[0;34m\u001b[0m\u001b[0;34m\u001b[0m\u001b[0m\n\u001b[1;32m      8\u001b[0m \u001b[0;34m\u001b[0m\u001b[0m\n\u001b[0;32m----> 9\u001b[0;31m         \u001b[0mpygame\u001b[0m\u001b[0;34m.\u001b[0m\u001b[0mdisplay\u001b[0m\u001b[0;34m.\u001b[0m\u001b[0mupdate\u001b[0m\u001b[0;34m(\u001b[0m\u001b[0;34m)\u001b[0m\u001b[0;34m\u001b[0m\u001b[0;34m\u001b[0m\u001b[0m\n\u001b[0m\u001b[1;32m     10\u001b[0m         \u001b[0mscreen\u001b[0m\u001b[0;34m.\u001b[0m\u001b[0mfill\u001b[0m\u001b[0;34m(\u001b[0m \u001b[0mbg_color\u001b[0m \u001b[0;34m)\u001b[0m\u001b[0;34m\u001b[0m\u001b[0;34m\u001b[0m\u001b[0m\n\u001b[1;32m     11\u001b[0m \u001b[0;34m\u001b[0m\u001b[0m\n",
      "\u001b[0;31merror\u001b[0m: video system not initialized"
     ]
    }
   ],
   "source": [
    "pygame.display.flip()\n",
    "while running:\n",
    "\tfor event in pygame.event.get():\n",
    "\t\tif event.type == pygame.QUIT:\n",
    "\t\t\tpygame.quit()\n",
    "\t\t\trunning = False\n",
    "\t\t\tquit()\n",
    "\n",
    "\tpygame.display.update()\n",
    "\tscreen.fill( bg_color )\n",
    "\t\n",
    "\tpos_x += vel_x\n",
    "\tpos_y += vel_y\n",
    "\t\n",
    "\tif pos_y + radius > window_y or pos_y - radius < 0:\n",
    "\t\tvel_y *= -1\n",
    "\tif pos_x + radius > window_x or pos_x - radius < 0:\n",
    "\t\tvel_x *= -1\n",
    "\t\t\n",
    "\tpygame.draw.circle(screen, ball_color, (int(pos_x), int(pos_y)), radius )\n",
    "\ttime.sleep(1 / FPS)"
   ]
  },
  {
   "cell_type": "code",
   "execution_count": null,
   "metadata": {},
   "outputs": [],
   "source": []
  }
 ],
 "metadata": {
  "kernelspec": {
   "display_name": "Python 3",
   "language": "python",
   "name": "python3"
  },
  "language_info": {
   "codemirror_mode": {
    "name": "ipython",
    "version": 3
   },
   "file_extension": ".py",
   "mimetype": "text/x-python",
   "name": "python",
   "nbconvert_exporter": "python",
   "pygments_lexer": "ipython3",
   "version": "3.8.5"
  }
 },
 "nbformat": 4,
 "nbformat_minor": 4
}
