{
 "cells": [
  {
   "cell_type": "markdown",
   "metadata": {
    "heading_collapsed": true
   },
   "source": [
    "# Esercizio"
   ]
  },
  {
   "cell_type": "markdown",
   "metadata": {
    "hidden": true
   },
   "source": [
    "Scrivi una funzione che stampi un grafico che mostri la lunghezza dei valori in una lista. Ogni numero costituirà una stringa formata dal simbolo `#`.\n",
    "Esempio, la lista `[1,5,12]` corrisponderà alle seguenti 3 stringhe:\n",
    "\n",
    "```\n",
    "*\n",
    "*****\n",
    "************\n",
    "```"
   ]
  },
  {
   "cell_type": "code",
   "execution_count": 1,
   "metadata": {},
   "outputs": [
    {
     "name": "stdout",
     "output_type": "stream",
     "text": [
      "*\n",
      "*****\n",
      "************\n"
     ]
    }
   ],
   "source": [
    "def grafico(lista):\r\n",
    "    for elemento in lista:\r\n",
    "        print(\"*\" * elemento)\r\n",
    "\r\n",
    "grafico([1, 5, 12])"
   ]
  },
  {
   "cell_type": "markdown",
   "metadata": {
    "heading_collapsed": true
   },
   "source": [
    "# Esercizio"
   ]
  },
  {
   "cell_type": "markdown",
   "metadata": {
    "hidden": true
   },
   "source": [
    "Scrivi una funzione denominata `lunghezze` che accetti una frase (come stringa) e che restituisca una lista con formata dalla lunghezza di ogni parola.\n",
    "\n",
    "Esempio: \n",
    "```python\n",
    "lunghezze(\"buongiorno a tutti voi\")\n",
    "\n",
    ">>> [10, 1, 5, 3]\n",
    "```"
   ]
  },
  {
   "cell_type": "code",
   "execution_count": 4,
   "metadata": {},
   "outputs": [
    {
     "data": {
      "text/plain": "[4, 1, 5, 10, 1, 10]"
     },
     "execution_count": 4,
     "metadata": {},
     "output_type": "execute_result"
    }
   ],
   "source": [
    "def lunghezze(frase):\r\n",
    "    return( [len(i) for i in frase.split()])\r\n",
    "lunghezze(\"Ciao a tutti follettini e follettine\")"
   ]
  },
  {
   "cell_type": "markdown",
   "metadata": {
    "heading_collapsed": true
   },
   "source": [
    "# Esercizio"
   ]
  },
  {
   "cell_type": "markdown",
   "metadata": {
    "hidden": true
   },
   "source": [
    "Scrivi una funzione `multiplo` che determini se un numero sia multiplo di 2, 3, 5. La funzione deve stampare `2` nel primo caso, `3` nel secondo, `5` nel terzo e `False` in tutti gli altri casi.\n",
    "\n",
    "Esempio:\n",
    "```python\n",
    "multiplo(81)\n",
    "\n",
    ">>> 3\n",
    "```"
   ]
  },
  {
   "cell_type": "code",
   "execution_count": 10,
   "metadata": {},
   "outputs": [
    {
     "name": "stdout",
     "output_type": "stream",
     "text": [
      "2\n",
      "3\n",
      "5\n"
     ]
    }
   ],
   "source": [
    "def multiplo(num):\r\n",
    "    multiplo_di_qualcosa = False\r\n",
    "    if num % 2 == 0:\r\n",
    "        print(2)\r\n",
    "        multiplo_di_qualcosa = True\r\n",
    "    if num % 3 == 0:\r\n",
    "        print(3)\r\n",
    "        multiplo_di_qualcosa = True\r\n",
    "    if num % 5 == 0:\r\n",
    "        print(5)\r\n",
    "        multiplo_di_qualcosa = True\r\n",
    "    if not multiplo_di_qualcosa:\r\n",
    "        print(False)"
   ]
  },
  {
   "cell_type": "markdown",
   "metadata": {
    "heading_collapsed": true
   },
   "source": [
    "# Esercizio"
   ]
  },
  {
   "cell_type": "markdown",
   "metadata": {
    "hidden": true
   },
   "source": [
    "Scrivi una funzione `misura_secondi` che prende come argomenti 3 valori: `giorni`, `ore`, `minuti` e che restituisca la somma tra queste grandezze espressa in `secondi`\n",
    "\n",
    "Esempio:\n",
    "```python\n",
    "misura_secondi(1,13,4)\n",
    "\n",
    ">>> 133440\n",
    "```"
   ]
  },
  {
   "cell_type": "code",
   "execution_count": 13,
   "metadata": {},
   "outputs": [
    {
     "data": {
      "text/plain": "619560"
     },
     "execution_count": 13,
     "metadata": {},
     "output_type": "execute_result"
    }
   ],
   "source": [
    "def misura_secondi(giorni, ore, minuti):\r\n",
    "    r = 0\r\n",
    "    r += minuti * 60\r\n",
    "    r += ore * 60 * 60\r\n",
    "    r += giorni * 24 * 60 * 60\r\n",
    "\r\n",
    "    return r\r\n",
    "misura_secondi(7, 4, 6)"
   ]
  }
 ],
 "metadata": {
  "kernelspec": {
   "display_name": "Python 3.8.5 64-bit",
   "metadata": {
    "interpreter": {
     "hash": "2db524e06e9f5f4ffedc911c917cb75e12dbc923643829bf417064a77eb14d37"
    }
   },
   "name": "python3"
  },
  "language_info": {
   "codemirror_mode": {
    "name": "ipython",
    "version": 3
   },
   "file_extension": ".py",
   "mimetype": "text/x-python",
   "name": "python",
   "nbconvert_exporter": "python",
   "pygments_lexer": "ipython3",
   "version": "3.8.5"
  },
  "toc": {
   "base_numbering": 1,
   "nav_menu": {},
   "number_sections": true,
   "sideBar": true,
   "skip_h1_title": false,
   "title_cell": "Table of Contents",
   "title_sidebar": "Contents",
   "toc_cell": false,
   "toc_position": {},
   "toc_section_display": true,
   "toc_window_display": false
  }
 },
 "nbformat": 4,
 "nbformat_minor": 4
}